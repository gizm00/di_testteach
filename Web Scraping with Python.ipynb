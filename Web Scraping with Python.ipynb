{
 "metadata": {
  "name": "",
  "signature": "sha256:83b7dffae93705fd29613acf732256350bcc3f559639de45668287ba79fbc6a7"
 },
 "nbformat": 3,
 "nbformat_minor": 0,
 "worksheets": [
  {
   "cells": [
    {
     "cell_type": "markdown",
     "metadata": {},
     "source": [
      "### Web Scraping with Python"
     ]
    },
    {
     "cell_type": "markdown",
     "metadata": {},
     "source": [
      "Previous module: DOM elements and introduction to BeautifulSoup  \n",
      "[BeautifulSoup documentation](https://www.crummy.com/software/BeautifulSoup/bs4/doc/)"
     ]
    },
    {
     "cell_type": "code",
     "collapsed": false,
     "input": [
      "from bs4 import BeautifulSoup\n",
      "import re"
     ],
     "language": "python",
     "metadata": {},
     "outputs": [],
     "prompt_number": 1
    },
    {
     "cell_type": "markdown",
     "metadata": {},
     "source": [
      "Scraping data from [Clear Lake Campground](http://www.fs.usda.gov/recarea/mthood/null/recarea/?recid=53058&actid=82)"
     ]
    },
    {
     "cell_type": "markdown",
     "metadata": {},
     "source": [
      "#### Clear Lake Campground Website\n",
      "<img src ='images/clear_lake_website.png' style=\"display: inline-block\" width=90%>"
     ]
    },
    {
     "cell_type": "code",
     "collapsed": false,
     "input": [
      "# Create a 'soup' of DOM elements from the page source\n",
      "site_url = 'clear_lake.html'\n",
      "cg_data = open(\"webfiles/\" + site_url,'r').read()\n",
      "cg_soup = BeautifulSoup(cg_data, 'html')"
     ],
     "language": "python",
     "metadata": {},
     "outputs": [],
     "prompt_number": 2
    },
    {
     "cell_type": "code",
     "collapsed": false,
     "input": [
      "cg_soup"
     ],
     "language": "python",
     "metadata": {},
     "outputs": [
      {
       "output_type": "stream",
       "stream": "stdout",
       "text": [
        "Mt. Hood National Forest - Clear Lake Campground\n"
       ]
      }
     ],
     "prompt_number": 10
    },
    {
     "cell_type": "code",
     "collapsed": false,
     "input": [
      "navleft_divs = cg_soup.find_all('div', {'class': 'navleft'})"
     ],
     "language": "python",
     "metadata": {},
     "outputs": [],
     "prompt_number": 28
    },
    {
     "cell_type": "code",
     "collapsed": false,
     "input": [
      "navleft_divs[0]"
     ],
     "language": "python",
     "metadata": {},
     "outputs": [
      {
       "metadata": {},
       "output_type": "pyout",
       "prompt_number": 29,
       "text": [
        "<div class=\"navleft\" id=\"righttop\">\n",
        "<p class=\"headingtop\">Search</p>\n",
        "<form action=\"/wps/portal/fsinternet/!ut/p/c5/04_SB8K8xLLM9MSSzPy8xBz9CP0os3gDfxMDT8MwRydLA1cj72BTJw8jAwgAykeaxcN4jhYG_h4eYX5hPgYweSJ0G-AAjoR0h4Nci992sAm4zffzyM9N1S_IDY0wyDJRBABZRw4s/dl3/d3/L2dJQSEvUUt3QS9ZQnZ3LzZfMjAwMDAwMDBBODBPSEhWTk1VMTAwMDAwMDA!/?ss=110606&amp;navtype=SEARCH&amp;cid=FSE_003585&amp;navid=110000000000000&amp;pnavid=null&amp;ttype=search&amp;pname=Mt. Hood National Forest  - Search\" method=\"post\" name=\"frmMenu\">\n",
        "<fieldset>\n",
        "<legend>Search form</legend>\n",
        "<label for=\"searchText\">Search website</label> <div class=\"buttons\">\n",
        "<input class=\"search\" id=\"searchText\" name=\"searchText\" tabindex=\"2\" type=\"text\" value=\"\"/>\n",
        "<button name=\"submit\" tabindex=\"3\" type=\"submit\">Go</button>\n",
        "</div>\n",
        "<br clear=\"all\"/>\n",
        "<ul class=\"searchlist\">\n",
        "<li class=\"searchitem\">\n",
        "<a href=\"/help/mthood\" id=\"SearchSiteMapURL\" name=\"SearchSiteMapURL\">Site Map</a>\n",
        "</li>\n",
        "</ul>\n",
        "</fieldset>\n",
        "</form>\n",
        "</div>"
       ]
      }
     ],
     "prompt_number": 29
    },
    {
     "cell_type": "code",
     "collapsed": false,
     "input": [
      "for str_nav in navleft_p.find_next_sibling().stripped_strings:\n",
      "    print(str_nav)"
     ],
     "language": "python",
     "metadata": {},
     "outputs": [
      {
       "ename": "NameError",
       "evalue": "name 'navleft_p' is not defined",
       "output_type": "pyerr",
       "traceback": [
        "\u001b[1;31m---------------------------------------------------------------------------\u001b[0m\n\u001b[1;31mNameError\u001b[0m                                 Traceback (most recent call last)",
        "\u001b[1;32m<ipython-input-39-2d550ff211bd>\u001b[0m in \u001b[0;36m<module>\u001b[1;34m()\u001b[0m\n\u001b[1;32m----> 1\u001b[1;33m \u001b[1;32mfor\u001b[0m \u001b[0mstr_nav\u001b[0m \u001b[1;32min\u001b[0m \u001b[0mnavleft_p\u001b[0m\u001b[1;33m.\u001b[0m\u001b[0mfind_next_sibling\u001b[0m\u001b[1;33m(\u001b[0m\u001b[1;33m)\u001b[0m\u001b[1;33m.\u001b[0m\u001b[0mstripped_strings\u001b[0m\u001b[1;33m:\u001b[0m\u001b[1;33m\u001b[0m\u001b[0m\n\u001b[0m\u001b[0;32m      2\u001b[0m     \u001b[1;32mprint\u001b[0m\u001b[1;33m(\u001b[0m\u001b[0mstr_nav\u001b[0m\u001b[1;33m)\u001b[0m\u001b[1;33m\u001b[0m\u001b[0m\n",
        "\u001b[1;31mNameError\u001b[0m: name 'navleft_p' is not defined"
       ]
      }
     ],
     "prompt_number": 39
    },
    {
     "cell_type": "markdown",
     "metadata": {},
     "source": [
      "#### BeautifulSoup Cheat Sheet"
     ]
    },
    {
     "cell_type": "code",
     "collapsed": false,
     "input": [
      "# find all elements with a specific HTML tag\n",
      "# matches all <strong></strong> elements\n",
      "strong_tags = cg_soup.find_all('strong')\n",
      "\n",
      "# find all elements with a specifc TAG and specific text:\n",
      "# matches all elements <strong>Camping</strong>\n",
      "search_divs = cg_soup.find_all('strong', text=re.compile('Camping'))\n",
      "\n",
      "# find elements by an attribute\n",
      "# matches all elements <div class='tableclass</div>\n",
      "navleft_divs = cg_soup.find_all('div', {'class': 'navleft'})\n",
      "\n",
      "# find elements by relation to eachother\n",
      "# next_sibling, previous_sibling\n",
      "navleft_p = navleft_divs[0].p\n",
      "navleft_p.find_next_sibling()  # form \n",
      "navleft_p.find_next_sibling().button.text  # 'Go'\n",
      "\n",
      "# iterate through strings in the soup\n",
      "for str_nav in navleft_p.find_next_sibling().stripped_strings:\n",
      "    print(str_nav)\n",
      "\n",
      "#"
     ],
     "language": "python",
     "metadata": {},
     "outputs": [
      {
       "output_type": "stream",
       "stream": "stdout",
       "text": [
        "Search form\n",
        "Search website\n",
        "Go\n",
        "Site Map\n"
       ]
      }
     ],
     "prompt_number": 115
    },
    {
     "cell_type": "markdown",
     "metadata": {},
     "source": [
      "#### Lets take a look at the [Clear Lake Campground Website](http://www.fs.usda.gov/recarea/mthood/null/recarea/?recid=53058&actid=82) - Location"
     ]
    },
    {
     "cell_type": "markdown",
     "metadata": {},
     "source": []
    },
    {
     "cell_type": "code",
     "collapsed": false,
     "input": [
      "get_next = False\n",
      "for cg_str in cg_soup.stripped_strings:\n",
      "    if get_next:\n",
      "        print (cg_str)\n",
      "        get_next = False\n",
      "    if 'Latitude' in cg_str:\n",
      "        get_next = True"
     ],
     "language": "python",
     "metadata": {},
     "outputs": [
      {
       "output_type": "stream",
       "stream": "stdout",
       "text": [
        "45.17945\n"
       ]
      }
     ],
     "prompt_number": 47
    },
    {
     "cell_type": "code",
     "collapsed": false,
     "input": [
      "lat_div = cg_soup.find_all('div', text=re.compile('Latitude'))"
     ],
     "language": "python",
     "metadata": {},
     "outputs": [],
     "prompt_number": 48
    },
    {
     "cell_type": "code",
     "collapsed": false,
     "input": [
      "for str_lat in lat_div[0].find_next_sibling('div').stripped_strings:\n",
      "    print(str_lat)"
     ],
     "language": "python",
     "metadata": {},
     "outputs": [
      {
       "output_type": "stream",
       "stream": "stdout",
       "text": [
        "45.17945\n"
       ]
      }
     ],
     "prompt_number": 57
    },
    {
     "cell_type": "markdown",
     "metadata": {},
     "source": [
      "#### Current Conditions"
     ]
    },
    {
     "cell_type": "code",
     "collapsed": false,
     "input": [],
     "language": "python",
     "metadata": {},
     "outputs": []
    }
   ],
   "metadata": {}
  }
 ]
}